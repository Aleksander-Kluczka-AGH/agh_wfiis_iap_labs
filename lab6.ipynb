{
 "cells": [
  {
   "cell_type": "code",
   "execution_count": 6,
   "metadata": {},
   "outputs": [],
   "source": [
    "import cv2\n",
    "import numpy as np\n",
    "import math\n"
   ]
  },
  {
   "cell_type": "code",
   "execution_count": 7,
   "metadata": {},
   "outputs": [],
   "source": [
    "def Hough(image):\n",
    "    dst = cv2.Canny(image, 50, 200, None, 3)\n",
    "\n",
    "    val = 250\n",
    "\n",
    "    cdst = cv2.cvtColor(image, cv2.COLOR_GRAY2BGR)\n",
    "\n",
    "    lines = cv2.HoughLines(dst, 1, np.pi / 180, val, None, 0, 0)\n",
    "\n",
    "    if lines is not None:\n",
    "        for i in range(0, len(lines)):\n",
    "            rho = lines[i][0][0]\n",
    "            theta = lines[i][0][1]\n",
    "            a = math.cos(theta)\n",
    "            b = math.sin(theta)\n",
    "            x0 = a * rho\n",
    "            y0 = b * rho\n",
    "            pt1 = (int(x0 + 1000 * (-b)), int(y0 + 1000 * (a)))\n",
    "            pt2 = (int(x0 - 1000 * (-b)), int(y0 - 1000 * (a)))\n",
    "            cv2.line(cdst, pt1, pt2, (0, 0, 255), 3, cv2.LINE_AA)\n",
    "    return cdst"
   ]
  },
  {
   "cell_type": "code",
   "execution_count": 8,
   "metadata": {},
   "outputs": [],
   "source": [
    "video = cv2.VideoCapture(\"res/vid1.mov\")\n",
    "\n",
    "fourcc = cv2.VideoWriter_fourcc(*\"XVID\")\n",
    "output = cv2.VideoWriter(\"out/hough.avi\", fourcc, 25.0, (1920, 1080))\n",
    "\n",
    "while True:\n",
    "    ret, frame = video.read()\n",
    "    if not ret:\n",
    "        break\n",
    "    # plt.imshow(frame)\n",
    "\n",
    "    frame = cv2.cvtColor(frame, cv2.COLOR_BGR2GRAY)\n",
    "    frame = cv2.Canny(frame, 50, 200, None, 3)\n",
    "    frame = Hough(frame)\n",
    "    output.write(frame)\n",
    "\n",
    "output.release()"
   ]
  },
  {
   "cell_type": "code",
   "execution_count": 9,
   "metadata": {},
   "outputs": [],
   "source": [
    "video = cv2.VideoCapture(\"res/vid2.mov\")\n",
    "frames = []\n",
    "while True:\n",
    "    ret, frame = video.read()\n",
    "    if not ret:\n",
    "        break\n",
    "    frames.append(frame)\n"
   ]
  },
  {
   "cell_type": "code",
   "execution_count": 17,
   "metadata": {},
   "outputs": [],
   "source": [
    "output = cv2.VideoWriter(\"out/diff.avi\", fourcc, 25.0, (1280, 720))\n",
    "masks = []\n",
    "for i in range(0, len(frames) - 1):\n",
    "    frame1 = cv2.resize(frames[i], (1280, 720))\n",
    "    frame2 = cv2.resize(frames[i + 1], (1280, 720))\n",
    "    difference = cv2.subtract(frame1, frame2)\n",
    "    #\n",
    "    Conv_hsv_Gray = cv2.cvtColor(difference, cv2.COLOR_BGR2GRAY)\n",
    "    ret, mask = cv2.threshold(Conv_hsv_Gray, 0, 255, cv2.THRESH_BINARY_INV | cv2.THRESH_OTSU)\n",
    "    difference[mask != 255] = [0, 0, 255]\n",
    "    # output.write(cv2.bitwise_and(frame1, frame1, mask=mask))\n",
    "    #\n",
    "    output.write(difference)\n",
    "\n",
    "output.release()"
   ]
  }
 ],
 "metadata": {
  "kernelspec": {
   "display_name": "Python 3",
   "language": "python",
   "name": "python3"
  },
  "language_info": {
   "codemirror_mode": {
    "name": "ipython",
    "version": 3
   },
   "file_extension": ".py",
   "mimetype": "text/x-python",
   "name": "python",
   "nbconvert_exporter": "python",
   "pygments_lexer": "ipython3",
   "version": "3.11.1"
  },
  "orig_nbformat": 4,
  "vscode": {
   "interpreter": {
    "hash": "c31e03779c5729acb16a47da984287410c79dd40b10fcb5e67d857b9cc09e9ea"
   }
  }
 },
 "nbformat": 4,
 "nbformat_minor": 2
}
